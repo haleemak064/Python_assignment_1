{
  "nbformat": 4,
  "nbformat_minor": 0,
  "metadata": {
    "colab": {
      "provenance": []
    },
    "kernelspec": {
      "name": "python3",
      "display_name": "Python 3"
    },
    "language_info": {
      "name": "python"
    }
  },
  "cells": [
    {
      "cell_type": "markdown",
      "source": [
        "1- Write a Python program to print \"Hello, World!\n"
      ],
      "metadata": {
        "id": "75a7Rd6ACTz0"
      }
    },
    {
      "cell_type": "code",
      "source": [
        "print(\"Hell0,World!\")"
      ],
      "metadata": {
        "colab": {
          "base_uri": "https://localhost:8080/"
        },
        "id": "zPKcMMr_CXcb",
        "outputId": "6875ac37-4f1f-4d0d-d4c2-37a90f504ec8"
      },
      "execution_count": null,
      "outputs": [
        {
          "output_type": "stream",
          "name": "stdout",
          "text": [
            "Hell0,World!\n"
          ]
        }
      ]
    },
    {
      "cell_type": "markdown",
      "source": [
        "2- Write a Python program that displays your name and age.\n"
      ],
      "metadata": {
        "id": "IMArnsVICq0v"
      }
    },
    {
      "cell_type": "code",
      "source": [
        "\n",
        "\n",
        "name = \"Hamsha Rajpoot\"\n",
        "age = 21\n",
        "\n",
        "print(\"My name is\", name)\n",
        "print(\"I am\", age, \"years old\")\n"
      ],
      "metadata": {
        "colab": {
          "base_uri": "https://localhost:8080/"
        },
        "id": "lRgmLQumFMk4",
        "outputId": "e6862abd-9880-4e27-fb82-beee7f4b50c6"
      },
      "execution_count": null,
      "outputs": [
        {
          "output_type": "stream",
          "name": "stdout",
          "text": [
            "My name is Hamsha Rajpoot\n",
            "I am 21 years old\n"
          ]
        }
      ]
    },
    {
      "cell_type": "markdown",
      "source": [
        "3- Write code to print all the pre-defined keywords in Python using the keyword library.\n"
      ],
      "metadata": {
        "id": "g5qd3hx6FfKX"
      }
    },
    {
      "cell_type": "code",
      "source": [
        "help(\"keywords\")"
      ],
      "metadata": {
        "colab": {
          "base_uri": "https://localhost:8080/"
        },
        "id": "k-vpn3mJGsiE",
        "outputId": "276f36d8-06cc-4f66-dea7-8ef8fd8729a2"
      },
      "execution_count": null,
      "outputs": [
        {
          "output_type": "stream",
          "name": "stdout",
          "text": [
            "\n",
            "Here is a list of the Python keywords.  Enter any keyword to get more help.\n",
            "\n",
            "False               class               from                or\n",
            "None                continue            global              pass\n",
            "True                def                 if                  raise\n",
            "and                 del                 import              return\n",
            "as                  elif                in                  try\n",
            "assert              else                is                  while\n",
            "async               except              lambda              with\n",
            "await               finally             nonlocal            yield\n",
            "break               for                 not                 \n",
            "\n"
          ]
        }
      ]
    },
    {
      "cell_type": "markdown",
      "source": [
        "4- Write a program that checks if a given word is a Python keyword.\n"
      ],
      "metadata": {
        "id": "H30dIEolG_Hs"
      }
    },
    {
      "cell_type": "code",
      "source": [
        "import keyword\n",
        "word = input(\"enter a word\")\n",
        "if keyword.iskeyword(word):\n",
        "   print(\"is a python keyword\")\n",
        "else:\n",
        "   print(\"is not a python keyword\")"
      ],
      "metadata": {
        "colab": {
          "base_uri": "https://localhost:8080/"
        },
        "id": "bV3ZMwgUJ8pd",
        "outputId": "0215cf8c-5ea6-45a6-b894-be452bc523bb"
      },
      "execution_count": null,
      "outputs": [
        {
          "output_type": "stream",
          "name": "stdout",
          "text": [
            "enter a wordrajooot\n",
            "is not a python keyword\n"
          ]
        }
      ]
    },
    {
      "cell_type": "markdown",
      "source": [
        "5. Create a list and tuple in Python, and demonstrate how attempting to change an element works differently for each.\n"
      ],
      "metadata": {
        "id": "RO7j0PuFKBbg"
      }
    },
    {
      "cell_type": "code",
      "source": [
        "my_list = [10, 20, 30]\n",
        "my_tuple = [10, 20, 30]\n",
        "\n",
        "print(\"Original list:\", my_list)\n",
        "print(\"Original tuple:\", my_tuple)\n",
        "\n",
        "my_list[1] = 200\n",
        "print(\"List after modification:\", my_list)\n",
        "\n",
        "try:\n",
        "   my_tuple[1] = 200\n",
        "except TypeError as e:\n",
        "   print(\"error when modifying tuple:\", my_tuple)"
      ],
      "metadata": {
        "colab": {
          "base_uri": "https://localhost:8080/"
        },
        "id": "6ntn2Dm4KHXM",
        "outputId": "496382d2-f612-4370-8862-3782138068c3"
      },
      "execution_count": null,
      "outputs": [
        {
          "output_type": "stream",
          "name": "stdout",
          "text": [
            "Original list: [10, 20, 30]\n",
            "Original tuple: [10, 20, 30]\n",
            "List after modification: [10, 200, 30]\n"
          ]
        }
      ]
    },
    {
      "cell_type": "markdown",
      "source": [
        "6. Write a function to demonstrate the behavior of mutable and immutable arguments."
      ],
      "metadata": {
        "id": "dOBgM8a5OG7C"
      }
    },
    {
      "cell_type": "code",
      "source": [
        "def test_arguments(x, y):\n",
        "  # Try changing both\n",
        "  x = x + 5\n",
        "  y.append(10)\n",
        "  print(\"Inside function:\", x, y)\n",
        "\n",
        "\n",
        "# Example\n",
        "a = 15\n",
        "b = [1, 2, 3]\n",
        "\n",
        "print(\"Before function call:\", a, b)\n",
        "test_arguments(a, b)\n",
        "print(\"After function call\", a, b)\n"
      ],
      "metadata": {
        "colab": {
          "base_uri": "https://localhost:8080/"
        },
        "id": "kYlfy5hWOLFa",
        "outputId": "6d68c025-274b-48c8-95d5-3e63422c144f"
      },
      "execution_count": null,
      "outputs": [
        {
          "output_type": "stream",
          "name": "stdout",
          "text": [
            "Before function call: 15 [1, 2, 3]\n",
            "Inside function: 20 [1, 2, 3, 10]\n",
            "After function call 15 [1, 2, 3, 10]\n"
          ]
        }
      ]
    },
    {
      "cell_type": "markdown",
      "source": [
        "7. Write a program that performs basic arithmetic operations on two user-input numbers."
      ],
      "metadata": {
        "id": "6U-IqoyPQP9A"
      }
    },
    {
      "cell_type": "code",
      "source": [
        "a = int(input(\"enter a number\"))\n",
        "b = int(input(\"enter a number\"))\n",
        "print(a+b)\n",
        "print(a-b)\n",
        "print(a*b)\n",
        "print(a/b)"
      ],
      "metadata": {
        "colab": {
          "base_uri": "https://localhost:8080/"
        },
        "id": "7m-uu62CQcIt",
        "outputId": "0961b69e-20bf-4f56-b4a8-082b75f50efd"
      },
      "execution_count": null,
      "outputs": [
        {
          "output_type": "stream",
          "name": "stdout",
          "text": [
            "enter a number20\n",
            "enter a number10\n",
            "30\n",
            "10\n",
            "200\n",
            "2.0\n"
          ]
        }
      ]
    },
    {
      "cell_type": "markdown",
      "source": [
        "8-Weite a program to demonstrate the use of logical operators."
      ],
      "metadata": {
        "id": "FVR7Kr_ObGFb"
      }
    },
    {
      "cell_type": "code",
      "source": [
        "a = True\n",
        "b = False\n",
        "print(\"a=\", a, \"b=\", b)\n",
        "# and operators\n",
        "print(\"a and b =\" , a and b)\n",
        "# or operators\n",
        "print(\"a or b=\", a or b)\n",
        "# not operators\n",
        "print(\"not a=\", not a)\n",
        "print(\"not b =\", not b)\n"
      ],
      "metadata": {
        "colab": {
          "base_uri": "https://localhost:8080/"
        },
        "id": "_62oClJBbVWU",
        "outputId": "5c079696-ed83-41d6-b3b1-4c32150a5897"
      },
      "execution_count": null,
      "outputs": [
        {
          "output_type": "stream",
          "name": "stdout",
          "text": [
            "a= True b= False\n",
            "a and b = False\n",
            "a or b= True\n",
            "not a= False\n",
            "not b = True\n"
          ]
        }
      ]
    },
    {
      "cell_type": "markdown",
      "source": [
        "9- Write a python program to convert the user input from string to integer, float , and boolean type."
      ],
      "metadata": {
        "id": "NWpjUMdVdkHd"
      }
    },
    {
      "cell_type": "code",
      "source": [
        "a = input(\"enter a number\")\n",
        "print(a)\n",
        "b = int(a)\n",
        "print(b)\n",
        "c = float(a)\n",
        "print(c)\n",
        "d = bool(a)\n",
        "print(d)"
      ],
      "metadata": {
        "colab": {
          "base_uri": "https://localhost:8080/"
        },
        "id": "ho7RLS9YgUo8",
        "outputId": "71af332f-dbbd-42c4-be80-2a950c48b1ea"
      },
      "execution_count": null,
      "outputs": [
        {
          "output_type": "stream",
          "name": "stdout",
          "text": [
            "enter a number10\n",
            "10\n",
            "10\n",
            "10.0\n",
            "True\n"
          ]
        }
      ]
    },
    {
      "cell_type": "markdown",
      "source": [
        "10- Write a code to demonstrate type casting with list elements."
      ],
      "metadata": {
        "id": "Linmj7C9hAQT"
      }
    },
    {
      "cell_type": "code",
      "source": [
        "str_list = ['10','20','30']\n",
        "int_list = [int(x) for x in str_list]\n",
        "print(\"converted list :\" , int_list)"
      ],
      "metadata": {
        "colab": {
          "base_uri": "https://localhost:8080/"
        },
        "id": "OP8DX6D6hOcv",
        "outputId": "87ed1e4c-64c9-49f0-e8a0-4fb56eb66efe"
      },
      "execution_count": null,
      "outputs": [
        {
          "output_type": "stream",
          "name": "stdout",
          "text": [
            "converted list : [10, 20, 30]\n"
          ]
        }
      ]
    },
    {
      "cell_type": "markdown",
      "source": [
        "11- Write a code to check if a number is positive negative or zero.\n",
        "\n"
      ],
      "metadata": {
        "id": "PWiIpgiGlb9k"
      }
    },
    {
      "cell_type": "code",
      "source": [
        "num = float(input(\"Enter a number: \"))\n",
        "\n",
        "if num > 0:\n",
        "    print(\"The number is Positive.\")\n",
        "elif num < 0:\n",
        "    print(\"The number is Negative.\")\n",
        "else:\n",
        "    print(\"The number is Zero.\")\n"
      ],
      "metadata": {
        "colab": {
          "base_uri": "https://localhost:8080/"
        },
        "id": "jidKDdbupMnp",
        "outputId": "407f5afd-f902-45dc-bd30-1882d1b516db"
      },
      "execution_count": null,
      "outputs": [
        {
          "output_type": "stream",
          "name": "stdout",
          "text": [
            "Enter a number: 5\n",
            "The number is Positive.\n"
          ]
        }
      ]
    },
    {
      "cell_type": "markdown",
      "source": [
        "12- Write a for loop to print numbers from 1 to 10."
      ],
      "metadata": {
        "id": "Jr1nOjlIl4fs"
      }
    },
    {
      "cell_type": "code",
      "source": [
        "for i in range(1,11):\n",
        "   print(i)"
      ],
      "metadata": {
        "colab": {
          "base_uri": "https://localhost:8080/"
        },
        "id": "bMW6IT1emJt_",
        "outputId": "8475fac7-ba3d-484e-97ac-72fa5d71820c"
      },
      "execution_count": null,
      "outputs": [
        {
          "output_type": "stream",
          "name": "stdout",
          "text": [
            "1\n",
            "2\n",
            "3\n",
            "4\n",
            "5\n",
            "6\n",
            "7\n",
            "8\n",
            "9\n",
            "10\n"
          ]
        }
      ]
    },
    {
      "cell_type": "markdown",
      "source": [
        "14- Write a python program to reverse a string using a while loop."
      ],
      "metadata": {
        "id": "oKmLozPbmeOc"
      }
    },
    {
      "cell_type": "code",
      "source": [
        "text = input(\"Enter a string: \")\n",
        "\n",
        "i = len(text) - 1\n",
        "\n",
        "while i >= 8:\n",
        "    print(text[i], end=\"\")\n",
        "    i-= 1"
      ],
      "metadata": {
        "colab": {
          "base_uri": "https://localhost:8080/"
        },
        "id": "JGsFhKfUmsSp",
        "outputId": "a88a01c4-68d5-42ab-d180-e51404bad3f9"
      },
      "execution_count": null,
      "outputs": [
        {
          "name": "stdout",
          "output_type": "stream",
          "text": [
            "Enter a string: rajpoot\n"
          ]
        }
      ]
    },
    {
      "cell_type": "markdown",
      "source": [
        "15- Write a python program to calculate the factoria of a number provided by user using a while loop."
      ],
      "metadata": {
        "id": "rlCtpvp7n_R2"
      }
    },
    {
      "cell_type": "code",
      "source": [
        "num = int(input(\"Enter a number: \"))\n",
        "factorial = 1\n",
        "i=1\n",
        "\n",
        "\n",
        "while i <= num:\n",
        "      factorial *= i\n",
        "      i += 1\n",
        "\n",
        "print(\"Factorial of\", num, \"is:\", factorial)\n"
      ],
      "metadata": {
        "colab": {
          "base_uri": "https://localhost:8080/"
        },
        "id": "sp-Vh_xFoP_F",
        "outputId": "db6d41ed-0509-443d-8ff2-cb45ad03a8f4"
      },
      "execution_count": null,
      "outputs": [
        {
          "output_type": "stream",
          "name": "stdout",
          "text": [
            "Enter a number: 10\n",
            "Factorial of 10 is: 3628800\n"
          ]
        }
      ]
    },
    {
      "cell_type": "markdown",
      "source": [
        "1.What is Python, and why is it popular?\n",
        " - Python is a general-purpose programming language created by Guido van Rossum and first released in 1991. It emphasizes code readability with a clean, easy-to-understand syntax, which makes it ideal for beginners and professionals alike.\n",
        "\n",
        "And why is it popular  \n",
        "\n",
        "# Easy to Learn and Use\n",
        "\n",
        "   o\tPython's syntax is simple and resembles plain English.\n",
        "   o\tGreat for beginners with no prior programming experience.\n",
        "\n",
        "# Versatile and Powerful\n",
        "\n",
        "   o\tUsed in web development, data science, AI/ML, automation, software development, cybersecurity, and more.\n",
        "   Large Standard Library\n",
        "   o\tComes with many built-in modules and functions that save time and effort.\n",
        "\n",
        "# Massive Community Support\n",
        "\n",
        "   o\tHuge global community means lots of tutorials, documentation, libraries, and forums.\n",
        "\n",
        "# Cross-Platform Compatibility\n",
        "\n",
        "   o\tWorks on Windows, macOS, Linux, and more without major changes.\n",
        "   Popular in Academia and Industry\n",
        "   \n",
        "   o\tFrequently used in universities, research, and industries like Google, Netflix, NASA.\n"
      ],
      "metadata": {
        "id": "5n54c8pMqzYE"
      }
    },
    {
      "cell_type": "markdown",
      "source": [
        "2 - What is an interpreter in Python?\n",
        "\n",
        "\n",
        " -An interpreter in Python is a program that reads and executes Python code line by line,    instead of compiling the entire program before running it.\n",
        "\n"
      ],
      "metadata": {
        "id": "JBC81RqIsVbn"
      }
    },
    {
      "cell_type": "markdown",
      "source": [
        "3- What are pre-defined keywords in python ?\n",
        "\n",
        "\n",
        "-\tPre-defined keywords in Python are reserved words that have special meaning in the language. You cannot use them as variable names, function names, or identifiers because they are part of the syntax and structure of Python.\n"
      ],
      "metadata": {
        "id": "MUNF30QBshab"
      }
    },
    {
      "cell_type": "markdown",
      "source": [
        "4 -  Can keywords be used as variable names?\n",
        "\n",
        "\n",
        "No, keywords cannot be used as variable names.\n",
        " Reason: Keywords are special reserved words in Python like if, else, while, for, class, def, etc.\n",
        " They are part of the Python language syntax, so Python does not allow you to use them as identifiers (variable names, function names, etc.\n"
      ],
      "metadata": {
        "id": "ks18lUNvssdc"
      }
    },
    {
      "cell_type": "markdown",
      "source": [
        "5 - What is Mutability in python ?\n",
        "\n",
        "\n",
        "-\tMutability means whether the value of an object can be changed after it is created.\n",
        "-\t•  Mutable objects → Their contents can be changed without changing their identity .\n",
        "-\t•  Immutable objects → Once created, their contents cannot be changed. Any modification creates a new object\n"
      ],
      "metadata": {
        "id": "i-bik2zRs0td"
      }
    },
    {
      "cell_type": "markdown",
      "source": [
        "6 - Why are lists mutable, but tuples are immutable ?\n",
        "\n",
        "\n",
        "-\t•  A list is designed to be a dynamic collection.\n",
        "-\t•  You can add, remove, or change elements after creation.\n",
        "-\t•  Internally, lists store references to objects in a resizable array.\n",
        "-\t•  Because of this design, Python allows direct modification of the list’s contents.\n"
      ],
      "metadata": {
        "id": "c-QKvlqXvU6L"
      }
    },
    {
      "cell_type": "markdown",
      "source": [
        "7 - What is the difference between “==” and “is” operators in Python ?\n",
        "\n",
        "\n",
        "-\t  Equality operator\n",
        "•\tChecks whether values are the same.\n",
        "•\tIt does not care about memory location.\n",
        "•\tUses the __eq__ method internally.\n",
        "      == → Compares values\n",
        "                 (data inside objects).\n",
        "is → Compares identities\n",
        " (memory address of objects).\n"
      ],
      "metadata": {
        "id": "Yrp_rCxovXtw"
      }
    },
    {
      "cell_type": "markdown",
      "source": [
        "8- What are logical operators in Python ?\n",
        "\n",
        "\n",
        "-\tLogical operators are used to combine conditional statements (boolean expressions).\n",
        "-\tPython has three logical operators:\n",
        "1- and\n",
        "•\tReturns True if both conditions are true.\n",
        "            x = 5\n",
        "            print(x > 2 and x < 10)   # True (both conditions are True).\n",
        "      2- or\n",
        "•\tReturns True if at least one condition is true.\n",
        "            x = 5\n",
        "           print(x > 2 or x > 10)    # True (first condition is True).\n",
        "     3- not\n",
        "•\tReturns the opposite of the condition.\n",
        "            x = 5\n",
        "            print(not(x > 2))   # False (because x > 2 is True, and not makes it False).\n"
      ],
      "metadata": {
        "id": "JU92rHhHvgHb"
      }
    },
    {
      "cell_type": "markdown",
      "source": [
        "9-  What is type casting in Python ?\n",
        "\n",
        "\n",
        "-\tType casting (also called type conversion) means converting one data type into another.\n",
        " Python supports two types of type casting\n",
        "________________________________________\n",
        "  1.Implicit Type Casting\n",
        " (Type Promotion)\n",
        "•\tDone automatically by Python.\n",
        "•\tSmaller data type is converted into a larger data type to prevent data loss.\n",
        "  2.Explicit Type Casting\n",
        "            (Manual Conversion)\n",
        "•\tDone manually using built-in functions.\n",
        "       Common functions:\n",
        "•\tInt () → converts to integer\n",
        "•\tFloat () → converts to float\n",
        "•\tStr () → converts to string\n",
        "•\tList () → converts to list\n",
        "•\tTuple () → converts to tuple\n",
        "•\tSet () → converts to set.\n"
      ],
      "metadata": {
        "id": "VkQVW5o8voT1"
      }
    },
    {
      "cell_type": "markdown",
      "source": [
        "10- What is the difference between implict and explicit type casting?\n",
        "\n",
        "   -Implicit Type Casting\n",
        "\n",
        "Done automatically by Python.\n",
        "\n",
        "Happens when you perform operations between two different data types.\n",
        "\n",
        "Python automatically converts the smaller data type into a bigger one to avoid data loss.\n",
        "\n",
        "   -Explicit Type Casting\n",
        "\n",
        "Done manually by the programmer using functions like int(), float(), str(), etc.\n",
        "\n",
        "You decide what type you want the value to be."
      ],
      "metadata": {
        "id": "hPRnFDXFwlWK"
      }
    },
    {
      "cell_type": "markdown",
      "source": [
        "11- What is the purpose of conditional statements in Python?\n",
        "\n",
        "\n",
        "-\tPurpose of Conditional Statements in Python\n",
        "Conditional statements are used to make decisions in a program.\n",
        "They allow the program to execute different blocks of code depending on whether a condition is True or False.\n",
        "\n",
        "Why they are important ?\n",
        "1.\tControl the flow of the program.\n",
        "2.\tAllow programs to respond differently to different inputs.\n",
        "3.\tHelp in decision making .\n",
        "\n"
      ],
      "metadata": {
        "id": "XxHGNpCKwFm7"
      }
    },
    {
      "cell_type": "markdown",
      "source": [
        "12- How does the elif statement work?\n",
        "\n",
        "\n",
        "How the elif Statement Works in Python.\n",
        "-\tThe elif statement in Python stands for “else if”.\n",
        "-\tIt is used when there are multiple conditions to be checked, one after another.\n",
        "-\tThe program starts from the top if condition:\n",
        "o\tIf the condition is True, its block is executed and the rest are skipped.\n",
        "o\tIf the condition is False, Python moves to the next elif condition.\n",
        "-\tThis continues until one condition evaluates to True.\n",
        "-\tIf none of the if or elif conditions are True, the optional else block executes.\n",
        "short In = The elif statement allows checking multiple conditions sequentially. Python executes the block of the first condition that is True, and skips the rest. If no condition is True, the else block\n"
      ],
      "metadata": {
        "id": "X7_DdrvMwLeZ"
      }
    },
    {
      "cell_type": "markdown",
      "source": [
        "13- What is the difference between for and while loops?\n",
        "\n",
        "\n",
        "-\tDifference between for and while loops in Python (Theory)\n",
        "-\tA for loop is used when the number of iterations is known in advance or when you need to iterate over a sequence such as a list, tuple, string, or range.\n",
        "-\tA while loop is used when the number of iterations is not known beforehand, and the loop continues to execute as long as a given condition is True.\n",
        "-\tIn a for loop, the loop control variable is automatically updated by Python.\n",
        "-\tIn a while loop, the programmer must manually update the condition variable, otherwise the loop may become infinite.\n",
        "-\tThus, for loops are best for definite iteration, while while loops are best for indefinite iteration\n",
        "\n",
        "•\tFor loop → executes a block of code a fixed number of times or over a sequence.\n",
        "•\tWhile loop → executes a block of code repeatedly until a condition becomes False.\n"
      ],
      "metadata": {
        "id": "XTQKXBlHwSSN"
      }
    },
    {
      "cell_type": "markdown",
      "source": [
        "14-Describe a scenario where a while loop is more suitable than a for loop?\n",
        "\n",
        "-\tScenario Where a while Loop is More Suitable than a for Loop\n",
        "A while loop is more suitable when the number of iterations is not known in advance and depends on a condition that may change dynamically during program execution.\n",
        "\n",
        "Example Scenario:\n",
        "\n",
        "•\tUser Input Validation:\n",
        "Suppose you want to repeatedly ask a user to enter a positive number. You don’t know how many times the user might enter invalid input, so a while loop is ideal.\n",
        "\n",
        "The loop continues until the user enters a valid number.\n",
        "Using a for loop here is not suitable because you don’t know the number of attempts in advance.\n",
        "\n",
        "\n",
        "\n"
      ],
      "metadata": {
        "id": "XTnAvTMrwZ8w"
      }
    }
  ]
}